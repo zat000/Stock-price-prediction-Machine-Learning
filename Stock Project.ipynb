{
 "cells": [
  {
   "cell_type": "code",
   "execution_count": 1,
   "id": "ab4751a8-7051-46d2-a3c9-afa8cfdee527",
   "metadata": {},
   "outputs": [],
   "source": [
    "import yfinance as yf\n",
    "\n",
    "msft = yf.Ticker(\"MSFT\")\n",
    "msft_hist = msft.history(period=\"max\")\n",
    "\n",
    "## Analyzing Micorosft stocks based off ticker funtion\n",
    "## We want to examine the full histpry of the stock price"
   ]
  },
  {
   "cell_type": "code",
   "execution_count": 2,
   "id": "2c486544-10f4-44a8-8023-1f9c1d0770e2",
   "metadata": {},
   "outputs": [
    {
     "data": {
      "text/html": [
       "<div>\n",
       "<style scoped>\n",
       "    .dataframe tbody tr th:only-of-type {\n",
       "        vertical-align: middle;\n",
       "    }\n",
       "\n",
       "    .dataframe tbody tr th {\n",
       "        vertical-align: top;\n",
       "    }\n",
       "\n",
       "    .dataframe thead th {\n",
       "        text-align: right;\n",
       "    }\n",
       "</style>\n",
       "<table border=\"1\" class=\"dataframe\">\n",
       "  <thead>\n",
       "    <tr style=\"text-align: right;\">\n",
       "      <th></th>\n",
       "      <th>Open</th>\n",
       "      <th>High</th>\n",
       "      <th>Low</th>\n",
       "      <th>Close</th>\n",
       "      <th>Volume</th>\n",
       "      <th>Dividends</th>\n",
       "      <th>Stock Splits</th>\n",
       "    </tr>\n",
       "    <tr>\n",
       "      <th>Date</th>\n",
       "      <th></th>\n",
       "      <th></th>\n",
       "      <th></th>\n",
       "      <th></th>\n",
       "      <th></th>\n",
       "      <th></th>\n",
       "      <th></th>\n",
       "    </tr>\n",
       "  </thead>\n",
       "  <tbody>\n",
       "    <tr>\n",
       "      <th>1986-03-13 00:00:00-05:00</th>\n",
       "      <td>0.055121</td>\n",
       "      <td>0.063227</td>\n",
       "      <td>0.055121</td>\n",
       "      <td>0.060524</td>\n",
       "      <td>1031788800</td>\n",
       "      <td>0.0</td>\n",
       "      <td>0.0</td>\n",
       "    </tr>\n",
       "    <tr>\n",
       "      <th>1986-03-14 00:00:00-05:00</th>\n",
       "      <td>0.060524</td>\n",
       "      <td>0.063767</td>\n",
       "      <td>0.060524</td>\n",
       "      <td>0.062686</td>\n",
       "      <td>308160000</td>\n",
       "      <td>0.0</td>\n",
       "      <td>0.0</td>\n",
       "    </tr>\n",
       "    <tr>\n",
       "      <th>1986-03-17 00:00:00-05:00</th>\n",
       "      <td>0.062686</td>\n",
       "      <td>0.064308</td>\n",
       "      <td>0.062686</td>\n",
       "      <td>0.063767</td>\n",
       "      <td>133171200</td>\n",
       "      <td>0.0</td>\n",
       "      <td>0.0</td>\n",
       "    </tr>\n",
       "    <tr>\n",
       "      <th>1986-03-18 00:00:00-05:00</th>\n",
       "      <td>0.063767</td>\n",
       "      <td>0.064307</td>\n",
       "      <td>0.061605</td>\n",
       "      <td>0.062145</td>\n",
       "      <td>67766400</td>\n",
       "      <td>0.0</td>\n",
       "      <td>0.0</td>\n",
       "    </tr>\n",
       "    <tr>\n",
       "      <th>1986-03-19 00:00:00-05:00</th>\n",
       "      <td>0.062145</td>\n",
       "      <td>0.062686</td>\n",
       "      <td>0.060524</td>\n",
       "      <td>0.061065</td>\n",
       "      <td>47894400</td>\n",
       "      <td>0.0</td>\n",
       "      <td>0.0</td>\n",
       "    </tr>\n",
       "  </tbody>\n",
       "</table>\n",
       "</div>"
      ],
      "text/plain": [
       "                               Open      High       Low     Close      Volume  \\\n",
       "Date                                                                            \n",
       "1986-03-13 00:00:00-05:00  0.055121  0.063227  0.055121  0.060524  1031788800   \n",
       "1986-03-14 00:00:00-05:00  0.060524  0.063767  0.060524  0.062686   308160000   \n",
       "1986-03-17 00:00:00-05:00  0.062686  0.064308  0.062686  0.063767   133171200   \n",
       "1986-03-18 00:00:00-05:00  0.063767  0.064307  0.061605  0.062145    67766400   \n",
       "1986-03-19 00:00:00-05:00  0.062145  0.062686  0.060524  0.061065    47894400   \n",
       "\n",
       "                           Dividends  Stock Splits  \n",
       "Date                                                \n",
       "1986-03-13 00:00:00-05:00        0.0           0.0  \n",
       "1986-03-14 00:00:00-05:00        0.0           0.0  \n",
       "1986-03-17 00:00:00-05:00        0.0           0.0  \n",
       "1986-03-18 00:00:00-05:00        0.0           0.0  \n",
       "1986-03-19 00:00:00-05:00        0.0           0.0  "
      ]
     },
     "execution_count": 2,
     "metadata": {},
     "output_type": "execute_result"
    }
   ],
   "source": [
    "msft_hist.head()\n",
    "\n",
    "## Analuzing when Microsoft became publicly trading\n",
    "## We can also tell that this is sequential time series data which means that it is just ordered by time"
   ]
  },
  {
   "cell_type": "code",
   "execution_count": 3,
   "id": "1a77465b-bf24-4856-942c-fd466673aa42",
   "metadata": {},
   "outputs": [
    {
     "data": {
      "text/plain": [
       "<AxesSubplot:xlabel='Date'>"
      ]
     },
     "execution_count": 3,
     "metadata": {},
     "output_type": "execute_result"
    },
    {
     "data": {
      "image/png": "[encoded data removed]",
      "text/plain": [
       "<Figure size 640x480 with 1 Axes>"
      ]
     },
     "metadata": {},
     "output_type": "display_data"
    }
   ],
   "source": [
    "msft_hist.plot.line(y=\"Close\", use_index = True)"
   ]
  },
  {
   "cell_type": "code",
   "execution_count": 4,
   "id": "9d3f7c49-e1db-4b2a-97ae-edfb26bced56",
   "metadata": {},
   "outputs": [],
   "source": [
    "data = msft_hist[[\"Close\"]]\n",
    "data = data.rename(columns = {'Close' : 'Actual Close'})\n",
    "data[\"Target\"] = msft_hist.rolling(2).apply(lambda x: x.iloc[1] > x.iloc[0])[\"Close\"]\n",
    "\n",
    "## Defined data choosing close column then renaming the close column to \"Actual Close\" \n",
    "\n",
    "## Then defining \"Target\" by using the rolling fucntion which looks at every 2 rows then giving a binary\n",
    "# value of 1 if the the closing price on any given day is > than the closing price of the day before"
   ]
  },
  {
   "cell_type": "code",
   "execution_count": 5,
   "id": "20e88598-5427-4153-b5b2-a7b30b1b5ee9",
   "metadata": {},
   "outputs": [
    {
     "data": {
      "text/html": [
       "<div>\n",
       "<style scoped>\n",
       "    .dataframe tbody tr th:only-of-type {\n",
       "        vertical-align: middle;\n",
       "    }\n",
       "\n",
       "    .dataframe tbody tr th {\n",
       "        vertical-align: top;\n",
       "    }\n",
       "\n",
       "    .dataframe thead th {\n",
       "        text-align: right;\n",
       "    }\n",
       "</style>\n",
       "<table border=\"1\" class=\"dataframe\">\n",
       "  <thead>\n",
       "    <tr style=\"text-align: right;\">\n",
       "      <th></th>\n",
       "      <th>Actual Close</th>\n",
       "      <th>Target</th>\n",
       "    </tr>\n",
       "    <tr>\n",
       "      <th>Date</th>\n",
       "      <th></th>\n",
       "      <th></th>\n",
       "    </tr>\n",
       "  </thead>\n",
       "  <tbody>\n",
       "    <tr>\n",
       "      <th>1986-03-13 00:00:00-05:00</th>\n",
       "      <td>0.060524</td>\n",
       "      <td>NaN</td>\n",
       "    </tr>\n",
       "    <tr>\n",
       "      <th>1986-03-14 00:00:00-05:00</th>\n",
       "      <td>0.062686</td>\n",
       "      <td>1.0</td>\n",
       "    </tr>\n",
       "    <tr>\n",
       "      <th>1986-03-17 00:00:00-05:00</th>\n",
       "      <td>0.063767</td>\n",
       "      <td>1.0</td>\n",
       "    </tr>\n",
       "    <tr>\n",
       "      <th>1986-03-18 00:00:00-05:00</th>\n",
       "      <td>0.062145</td>\n",
       "      <td>0.0</td>\n",
       "    </tr>\n",
       "    <tr>\n",
       "      <th>1986-03-19 00:00:00-05:00</th>\n",
       "      <td>0.061065</td>\n",
       "      <td>0.0</td>\n",
       "    </tr>\n",
       "  </tbody>\n",
       "</table>\n",
       "</div>"
      ],
      "text/plain": [
       "                           Actual Close  Target\n",
       "Date                                           \n",
       "1986-03-13 00:00:00-05:00      0.060524     NaN\n",
       "1986-03-14 00:00:00-05:00      0.062686     1.0\n",
       "1986-03-17 00:00:00-05:00      0.063767     1.0\n",
       "1986-03-18 00:00:00-05:00      0.062145     0.0\n",
       "1986-03-19 00:00:00-05:00      0.061065     0.0"
      ]
     },
     "execution_count": 5,
     "metadata": {},
     "output_type": "execute_result"
    }
   ],
   "source": [
    "data.head(5)\n",
    "\n",
    "\n",
    "## We have what we want to predict and now we will begin to get the things to use to make predictions"
   ]
  },
  {
   "cell_type": "code",
   "execution_count": 6,
   "id": "ae639254-91ca-4d87-9f89-5a3714c54bcc",
   "metadata": {},
   "outputs": [],
   "source": [
    "msft_prev = msft_hist.copy()"
   ]
  },
  {
   "cell_type": "code",
   "execution_count": 7,
   "id": "ac969825-60c6-4c92-99fe-df6f4116dfaf",
   "metadata": {},
   "outputs": [],
   "source": [
    "msft_prev = msft_prev.shift(1)"
   ]
  },
  {
   "cell_type": "code",
   "execution_count": 8,
   "id": "5c137a96-adbb-4024-a8ed-a6d4436f6f9a",
   "metadata": {},
   "outputs": [
    {
     "data": {
      "text/html": [
       "<div>\n",
       "<style scoped>\n",
       "    .dataframe tbody tr th:only-of-type {\n",
       "        vertical-align: middle;\n",
       "    }\n",
       "\n",
       "    .dataframe tbody tr th {\n",
       "        vertical-align: top;\n",
       "    }\n",
       "\n",
       "    .dataframe thead th {\n",
       "        text-align: right;\n",
       "    }\n",
       "</style>\n",
       "<table border=\"1\" class=\"dataframe\">\n",
       "  <thead>\n",
       "    <tr style=\"text-align: right;\">\n",
       "      <th></th>\n",
       "      <th>Open</th>\n",
       "      <th>High</th>\n",
       "      <th>Low</th>\n",
       "      <th>Close</th>\n",
       "      <th>Volume</th>\n",
       "      <th>Dividends</th>\n",
       "      <th>Stock Splits</th>\n",
       "    </tr>\n",
       "    <tr>\n",
       "      <th>Date</th>\n",
       "      <th></th>\n",
       "      <th></th>\n",
       "      <th></th>\n",
       "      <th></th>\n",
       "      <th></th>\n",
       "      <th></th>\n",
       "      <th></th>\n",
       "    </tr>\n",
       "  </thead>\n",
       "  <tbody>\n",
       "    <tr>\n",
       "      <th>1986-03-13 00:00:00-05:00</th>\n",
       "      <td>NaN</td>\n",
       "      <td>NaN</td>\n",
       "      <td>NaN</td>\n",
       "      <td>NaN</td>\n",
       "      <td>NaN</td>\n",
       "      <td>NaN</td>\n",
       "      <td>NaN</td>\n",
       "    </tr>\n",
       "    <tr>\n",
       "      <th>1986-03-14 00:00:00-05:00</th>\n",
       "      <td>0.055121</td>\n",
       "      <td>0.063227</td>\n",
       "      <td>0.055121</td>\n",
       "      <td>0.060524</td>\n",
       "      <td>1.031789e+09</td>\n",
       "      <td>0.0</td>\n",
       "      <td>0.0</td>\n",
       "    </tr>\n",
       "    <tr>\n",
       "      <th>1986-03-17 00:00:00-05:00</th>\n",
       "      <td>0.060524</td>\n",
       "      <td>0.063767</td>\n",
       "      <td>0.060524</td>\n",
       "      <td>0.062686</td>\n",
       "      <td>3.081600e+08</td>\n",
       "      <td>0.0</td>\n",
       "      <td>0.0</td>\n",
       "    </tr>\n",
       "    <tr>\n",
       "      <th>1986-03-18 00:00:00-05:00</th>\n",
       "      <td>0.062686</td>\n",
       "      <td>0.064308</td>\n",
       "      <td>0.062686</td>\n",
       "      <td>0.063767</td>\n",
       "      <td>1.331712e+08</td>\n",
       "      <td>0.0</td>\n",
       "      <td>0.0</td>\n",
       "    </tr>\n",
       "    <tr>\n",
       "      <th>1986-03-19 00:00:00-05:00</th>\n",
       "      <td>0.063767</td>\n",
       "      <td>0.064307</td>\n",
       "      <td>0.061605</td>\n",
       "      <td>0.062145</td>\n",
       "      <td>6.776640e+07</td>\n",
       "      <td>0.0</td>\n",
       "      <td>0.0</td>\n",
       "    </tr>\n",
       "  </tbody>\n",
       "</table>\n",
       "</div>"
      ],
      "text/plain": [
       "                               Open      High       Low     Close  \\\n",
       "Date                                                                \n",
       "1986-03-13 00:00:00-05:00       NaN       NaN       NaN       NaN   \n",
       "1986-03-14 00:00:00-05:00  0.055121  0.063227  0.055121  0.060524   \n",
       "1986-03-17 00:00:00-05:00  0.060524  0.063767  0.060524  0.062686   \n",
       "1986-03-18 00:00:00-05:00  0.062686  0.064308  0.062686  0.063767   \n",
       "1986-03-19 00:00:00-05:00  0.063767  0.064307  0.061605  0.062145   \n",
       "\n",
       "                                 Volume  Dividends  Stock Splits  \n",
       "Date                                                              \n",
       "1986-03-13 00:00:00-05:00           NaN        NaN           NaN  \n",
       "1986-03-14 00:00:00-05:00  1.031789e+09        0.0           0.0  \n",
       "1986-03-17 00:00:00-05:00  3.081600e+08        0.0           0.0  \n",
       "1986-03-18 00:00:00-05:00  1.331712e+08        0.0           0.0  \n",
       "1986-03-19 00:00:00-05:00  6.776640e+07        0.0           0.0  "
      ]
     },
     "execution_count": 8,
     "metadata": {},
     "output_type": "execute_result"
    }
   ],
   "source": [
    "msft_prev.head()\n",
    "\n",
    "## We shifted the data to the next day forward as we dont want to predict the current day with the same\n",
    "# data to prevent leakage"
   ]
  },
  {
   "cell_type": "code",
   "execution_count": 9,
   "id": "9a05a8b2-21c9-47e1-b8bb-5b0aae8ba497",
   "metadata": {},
   "outputs": [],
   "source": [
    "predictors = [\"Close\", \"High\", \"Low\", \"Open\", \"Volume\"]\n",
    "data = data.join(msft_prev[predictors]).iloc[1:]\n",
    "                 \n",
    "## \"Predictors is what we are going to use to predict the target\n",
    "## We are joining the data with our target with our predictors and taking 1 row forward because we don't\n",
    "# want the row with all the NaNs"
   ]
  },
  {
   "cell_type": "code",
   "execution_count": 10,
   "id": "90a59bc7-77e5-4c4e-81ca-b0510bf281cf",
   "metadata": {},
   "outputs": [
    {
     "data": {
      "text/html": [
       "<div>\n",
       "<style scoped>\n",
       "    .dataframe tbody tr th:only-of-type {\n",
       "        vertical-align: middle;\n",
       "    }\n",
       "\n",
       "    .dataframe tbody tr th {\n",
       "        vertical-align: top;\n",
       "    }\n",
       "\n",
       "    .dataframe thead th {\n",
       "        text-align: right;\n",
       "    }\n",
       "</style>\n",
       "<table border=\"1\" class=\"dataframe\">\n",
       "  <thead>\n",
       "    <tr style=\"text-align: right;\">\n",
       "      <th></th>\n",
       "      <th>Actual Close</th>\n",
       "      <th>Target</th>\n",
       "      <th>Close</th>\n",
       "      <th>High</th>\n",
       "      <th>Low</th>\n",
       "      <th>Open</th>\n",
       "      <th>Volume</th>\n",
       "    </tr>\n",
       "    <tr>\n",
       "      <th>Date</th>\n",
       "      <th></th>\n",
       "      <th></th>\n",
       "      <th></th>\n",
       "      <th></th>\n",
       "      <th></th>\n",
       "      <th></th>\n",
       "      <th></th>\n",
       "    </tr>\n",
       "  </thead>\n",
       "  <tbody>\n",
       "    <tr>\n",
       "      <th>1986-03-14 00:00:00-05:00</th>\n",
       "      <td>0.062686</td>\n",
       "      <td>1.0</td>\n",
       "      <td>0.060524</td>\n",
       "      <td>0.063227</td>\n",
       "      <td>0.055121</td>\n",
       "      <td>0.055121</td>\n",
       "      <td>1.031789e+09</td>\n",
       "    </tr>\n",
       "    <tr>\n",
       "      <th>1986-03-17 00:00:00-05:00</th>\n",
       "      <td>0.063767</td>\n",
       "      <td>1.0</td>\n",
       "      <td>0.062686</td>\n",
       "      <td>0.063767</td>\n",
       "      <td>0.060524</td>\n",
       "      <td>0.060524</td>\n",
       "      <td>3.081600e+08</td>\n",
       "    </tr>\n",
       "    <tr>\n",
       "      <th>1986-03-18 00:00:00-05:00</th>\n",
       "      <td>0.062145</td>\n",
       "      <td>0.0</td>\n",
       "      <td>0.063767</td>\n",
       "      <td>0.064308</td>\n",
       "      <td>0.062686</td>\n",
       "      <td>0.062686</td>\n",
       "      <td>1.331712e+08</td>\n",
       "    </tr>\n",
       "    <tr>\n",
       "      <th>1986-03-19 00:00:00-05:00</th>\n",
       "      <td>0.061065</td>\n",
       "      <td>0.0</td>\n",
       "      <td>0.062145</td>\n",
       "      <td>0.064307</td>\n",
       "      <td>0.061605</td>\n",
       "      <td>0.063767</td>\n",
       "      <td>6.776640e+07</td>\n",
       "    </tr>\n",
       "    <tr>\n",
       "      <th>1986-03-20 00:00:00-05:00</th>\n",
       "      <td>0.059444</td>\n",
       "      <td>0.0</td>\n",
       "      <td>0.061065</td>\n",
       "      <td>0.062686</td>\n",
       "      <td>0.060524</td>\n",
       "      <td>0.062145</td>\n",
       "      <td>4.789440e+07</td>\n",
       "    </tr>\n",
       "  </tbody>\n",
       "</table>\n",
       "</div>"
      ],
      "text/plain": [
       "                           Actual Close  Target     Close      High       Low  \\\n",
       "Date                                                                            \n",
       "1986-03-14 00:00:00-05:00      0.062686     1.0  0.060524  0.063227  0.055121   \n",
       "1986-03-17 00:00:00-05:00      0.063767     1.0  0.062686  0.063767  0.060524   \n",
       "1986-03-18 00:00:00-05:00      0.062145     0.0  0.063767  0.064308  0.062686   \n",
       "1986-03-19 00:00:00-05:00      0.061065     0.0  0.062145  0.064307  0.061605   \n",
       "1986-03-20 00:00:00-05:00      0.059444     0.0  0.061065  0.062686  0.060524   \n",
       "\n",
       "                               Open        Volume  \n",
       "Date                                               \n",
       "1986-03-14 00:00:00-05:00  0.055121  1.031789e+09  \n",
       "1986-03-17 00:00:00-05:00  0.060524  3.081600e+08  \n",
       "1986-03-18 00:00:00-05:00  0.062686  1.331712e+08  \n",
       "1986-03-19 00:00:00-05:00  0.063767  6.776640e+07  \n",
       "1986-03-20 00:00:00-05:00  0.062145  4.789440e+07  "
      ]
     },
     "execution_count": 10,
     "metadata": {},
     "output_type": "execute_result"
    }
   ],
   "source": [
    "data.head()"
   ]
  },
  {
   "cell_type": "code",
   "execution_count": 11,
   "id": "535fd4fb-bdc0-4aea-b013-739b83038446",
   "metadata": {},
   "outputs": [
    {
     "data": {
      "text/plain": [
       "RandomForestClassifier(min_samples_split=200, n_estimators=500, random_state=1)"
      ]
     },
     "execution_count": 11,
     "metadata": {},
     "output_type": "execute_result"
    }
   ],
   "source": [
    "## We have now downloaded the data, created our targets and created our predictors\n",
    "## Now we will begin training our initial machine learning model\n",
    "## Using the RandomForestClassifier as it is good at identifying non-linear relationships\n",
    "## We are using a RandomForestClassifier instead of a RandomForestRegression as our target is binary\n",
    "## A RandomForest is a series of indivusal decision tree models\n",
    "\n",
    "from sklearn.ensemble import RandomForestClassifier\n",
    "\n",
    "model = RandomForestClassifier(n_estimators=500, min_samples_split=200, random_state=1)\n",
    "\n",
    "train = data.iloc[:-100]\n",
    "test = data.iloc[-100:] ## Training the data on the all data except last 100 days\n",
    "\n",
    "model.fit(train[predictors], train[\"Target\"]) ## Using predictors to predict the target\n",
    "\n",
    "## We are initializing our RandomForestClassifier model with \"model\" and setting parameters \n",
    "# Parameters set various aspects of the model. n_estimators indicates the number of decision forest \n",
    "#trees we want to train. We are using 100 decision trees and will average the results\n",
    "\n",
    "## We are setting min_samples_split to 200 as RandomForests and decision trees can easily overfit the\n",
    "# data. A decision tree works by applying a series of rules to the data and setting the min_samples_spli\n",
    "# helps prevent from the decision trees fitting itself as tightly. The less tighter the data, the better\n",
    "# we can generalize the future data and less we are going to overfit. Overfitting means that our model\n",
    "# performs well with the training data but badly with test data which is bad for real world scenarios\n",
    "\n",
    "## Random_state just makes it to where when we run the algorithm, it will be a constant"
   ]
  },
  {
   "cell_type": "code",
   "execution_count": 12,
   "id": "481b9ab6-0b3b-44e1-a5c5-c5d43054ea26",
   "metadata": {},
   "outputs": [
    {
     "data": {
      "text/plain": [
       "array([0., 1., 0., 1., 0., 1., 0., 1., 0., 1., 1., 1., 1., 1., 1., 1., 1.,\n",
       "       1., 1., 1., 1., 0., 0., 1., 1., 1., 1., 0., 0., 0., 0., 0., 1., 1.,\n",
       "       1., 0., 1., 1., 1., 1., 1., 1., 1., 1., 1., 1., 0., 1., 1., 0., 1.,\n",
       "       0., 0., 0., 0., 0., 1., 0., 0., 0., 0., 0., 0., 0., 0., 0., 0., 1.,\n",
       "       1., 1., 1., 0., 0., 1., 0., 0., 1., 0., 0., 1., 1., 0., 0., 1., 1.,\n",
       "       1., 1., 1., 1., 0., 1., 0., 0., 0., 0., 0., 0., 0., 0., 1.])"
      ]
     },
     "execution_count": 12,
     "metadata": {},
     "output_type": "execute_result"
    }
   ],
   "source": [
    "from sklearn.metrics import precision_score\n",
    "\n",
    "## Precision is identifying how many true positives our model predicted (days when the price actuallly \n",
    "# went up and the algorith said it would go up divided by all of the times the algorith said it would\n",
    "# go up) (True Positives / False Postives + True Positives) \n",
    "\n",
    "preds = model.predict(test[predictors])\n",
    "preds"
   ]
  },
  {
   "cell_type": "code",
   "execution_count": 13,
   "id": "0d219d19-b1a3-4a9e-903d-2058da42c8e0",
   "metadata": {},
   "outputs": [],
   "source": [
    "import pandas as pd\n",
    "preds = pd.Series(preds, index=test.index)"
   ]
  },
  {
   "cell_type": "code",
   "execution_count": 14,
   "id": "3ff6cf17-a518-4a91-8eb6-115f1ed3a979",
   "metadata": {},
   "outputs": [
    {
     "data": {
      "text/plain": [
       "Date\n",
       "2023-01-18 00:00:00-05:00    0.0\n",
       "2023-01-19 00:00:00-05:00    1.0\n",
       "2023-01-20 00:00:00-05:00    0.0\n",
       "2023-01-23 00:00:00-05:00    1.0\n",
       "2023-01-24 00:00:00-05:00    0.0\n",
       "                            ... \n",
       "2023-06-05 00:00:00-04:00    0.0\n",
       "2023-06-06 00:00:00-04:00    0.0\n",
       "2023-06-07 00:00:00-04:00    0.0\n",
       "2023-06-08 00:00:00-04:00    0.0\n",
       "2023-06-09 00:00:00-04:00    1.0\n",
       "Length: 100, dtype: float64"
      ]
     },
     "execution_count": 14,
     "metadata": {},
     "output_type": "execute_result"
    }
   ],
   "source": [
    "preds"
   ]
  },
  {
   "cell_type": "code",
   "execution_count": 15,
   "id": "527857c3-74ed-4107-b172-d1683ea26606",
   "metadata": {},
   "outputs": [
    {
     "data": {
      "text/plain": [
       "0.49056603773584906"
      ]
     },
     "execution_count": 15,
     "metadata": {},
     "output_type": "execute_result"
    }
   ],
   "source": [
    "precision_score(test[\"Target\"], preds)"
   ]
  },
  {
   "cell_type": "code",
   "execution_count": 16,
   "id": "e9b439c9-8b23-4cc8-a435-a7192bd9843b",
   "metadata": {},
   "outputs": [],
   "source": [
    "combined = pd.concat({\"Target\": test[\"Target\"], \"Predictions\": preds}, axis=1)"
   ]
  },
  {
   "cell_type": "code",
   "execution_count": 17,
   "id": "dee01559-d919-422b-8d09-abebcbde1c6b",
   "metadata": {},
   "outputs": [
    {
     "data": {
      "text/html": [
       "<div>\n",
       "<style scoped>\n",
       "    .dataframe tbody tr th:only-of-type {\n",
       "        vertical-align: middle;\n",
       "    }\n",
       "\n",
       "    .dataframe tbody tr th {\n",
       "        vertical-align: top;\n",
       "    }\n",
       "\n",
       "    .dataframe thead th {\n",
       "        text-align: right;\n",
       "    }\n",
       "</style>\n",
       "<table border=\"1\" class=\"dataframe\">\n",
       "  <thead>\n",
       "    <tr style=\"text-align: right;\">\n",
       "      <th></th>\n",
       "      <th>Target</th>\n",
       "      <th>Predictions</th>\n",
       "    </tr>\n",
       "    <tr>\n",
       "      <th>Date</th>\n",
       "      <th></th>\n",
       "      <th></th>\n",
       "    </tr>\n",
       "  </thead>\n",
       "  <tbody>\n",
       "    <tr>\n",
       "      <th>2023-01-18 00:00:00-05:00</th>\n",
       "      <td>0.0</td>\n",
       "      <td>0.0</td>\n",
       "    </tr>\n",
       "    <tr>\n",
       "      <th>2023-01-19 00:00:00-05:00</th>\n",
       "      <td>0.0</td>\n",
       "      <td>1.0</td>\n",
       "    </tr>\n",
       "    <tr>\n",
       "      <th>2023-01-20 00:00:00-05:00</th>\n",
       "      <td>1.0</td>\n",
       "      <td>0.0</td>\n",
       "    </tr>\n",
       "    <tr>\n",
       "      <th>2023-01-23 00:00:00-05:00</th>\n",
       "      <td>1.0</td>\n",
       "      <td>1.0</td>\n",
       "    </tr>\n",
       "    <tr>\n",
       "      <th>2023-01-24 00:00:00-05:00</th>\n",
       "      <td>0.0</td>\n",
       "      <td>0.0</td>\n",
       "    </tr>\n",
       "    <tr>\n",
       "      <th>...</th>\n",
       "      <td>...</td>\n",
       "      <td>...</td>\n",
       "    </tr>\n",
       "    <tr>\n",
       "      <th>2023-06-05 00:00:00-04:00</th>\n",
       "      <td>1.0</td>\n",
       "      <td>0.0</td>\n",
       "    </tr>\n",
       "    <tr>\n",
       "      <th>2023-06-06 00:00:00-04:00</th>\n",
       "      <td>0.0</td>\n",
       "      <td>0.0</td>\n",
       "    </tr>\n",
       "    <tr>\n",
       "      <th>2023-06-07 00:00:00-04:00</th>\n",
       "      <td>0.0</td>\n",
       "      <td>0.0</td>\n",
       "    </tr>\n",
       "    <tr>\n",
       "      <th>2023-06-08 00:00:00-04:00</th>\n",
       "      <td>1.0</td>\n",
       "      <td>0.0</td>\n",
       "    </tr>\n",
       "    <tr>\n",
       "      <th>2023-06-09 00:00:00-04:00</th>\n",
       "      <td>1.0</td>\n",
       "      <td>1.0</td>\n",
       "    </tr>\n",
       "  </tbody>\n",
       "</table>\n",
       "<p>100 rows × 2 columns</p>\n",
       "</div>"
      ],
      "text/plain": [
       "                           Target  Predictions\n",
       "Date                                          \n",
       "2023-01-18 00:00:00-05:00     0.0          0.0\n",
       "2023-01-19 00:00:00-05:00     0.0          1.0\n",
       "2023-01-20 00:00:00-05:00     1.0          0.0\n",
       "2023-01-23 00:00:00-05:00     1.0          1.0\n",
       "2023-01-24 00:00:00-05:00     0.0          0.0\n",
       "...                           ...          ...\n",
       "2023-06-05 00:00:00-04:00     1.0          0.0\n",
       "2023-06-06 00:00:00-04:00     0.0          0.0\n",
       "2023-06-07 00:00:00-04:00     0.0          0.0\n",
       "2023-06-08 00:00:00-04:00     1.0          0.0\n",
       "2023-06-09 00:00:00-04:00     1.0          1.0\n",
       "\n",
       "[100 rows x 2 columns]"
      ]
     },
     "execution_count": 17,
     "metadata": {},
     "output_type": "execute_result"
    }
   ],
   "source": [
    "combined"
   ]
  },
  {
   "cell_type": "code",
   "execution_count": 18,
   "id": "1996dd4d-1a0c-4e76-8d77-2e94a00c39af",
   "metadata": {},
   "outputs": [
    {
     "data": {
      "text/plain": [
       "<AxesSubplot:xlabel='Date'>"
      ]
     },
     "execution_count": 18,
     "metadata": {},
     "output_type": "execute_result"
    },
    {
     "data": {
      "image/png": "[encoded data removed]",
      "text/plain": [
       "<Figure size 640x480 with 1 Axes>"
      ]
     },
     "metadata": {},
     "output_type": "display_data"
    }
   ],
   "source": [
    "combined.plot()\n",
    "\n",
    "## This is why we need more data to test on as is not as robust"
   ]
  },
  {
   "cell_type": "markdown",
   "id": "b2868b91-6a34-4c6b-9337-fe34999979ff",
   "metadata": {},
   "source": [
    "# Creating a backtesting engine\n",
    "### Backtesting will let us go from predicting only 100 rows to most of the data set which gives us a robust error metric and then we can use our eroor metric to be more confident\n",
    "\n",
    "#### Backtesting involves looping over the data, splitting the data up,then training a new model every so often and using it to predict the next few rows"
   ]
  },
  {
   "cell_type": "code",
   "execution_count": 19,
   "id": "9ef3f495-cfec-4abf-87c4-a439f8cb4057",
   "metadata": {},
   "outputs": [],
   "source": [
    "def backtest(data, model, predictors, start=1000, step=50):\n",
    "    predictions = []\n",
    "    # Loop over the dataset in increments\n",
    "    for i in range(start, data.shape[0], step):\n",
    "        # Split into train and test sets\n",
    "        train = data.iloc[0:i].copy()\n",
    "        test = data.iloc[i:(i+step)].copy()\n",
    "        \n",
    "        ## We are starting at row 1000 then train the model on rows 0 to 1000 then were going to make\n",
    "        # predictions on rows 1000 to 1750\n",
    "        \n",
    "        model.fit(train[predictors], train[\"Target\"])\n",
    "        \n",
    "        # Make predictions\n",
    "        preds = model.predict_proba(test[predictors])[:,1]\n",
    "        preds = pd.Series(preds, index=test.index)\n",
    "        preds[preds > .6] = 1\n",
    "        preds[preds<=.6] = 0\n",
    "        \n",
    "         ## This results as an array. 1st column is proability is for no and 2nd is for yes but we then\n",
    "        # got rid of the 1st column so we only see the probability for yes if the price went up\n",
    "        # What this allows us to do is to set a threshold. The threshold is .5 and if its greater than \n",
    "        #the threshold, it is coded as a 1\n",
    "\n",
    "        combined = pd.concat({\"Target\": test[\"Target\"],\"Predictions\": preds}, axis=1)\n",
    "        \n",
    "        predictions.append(combined)\n",
    "    \n",
    "    return pd.concat(predictions)"
   ]
  },
  {
   "cell_type": "code",
   "execution_count": 20,
   "id": "b0d756e0-b28e-4611-9b98-d7adbd0d44b8",
   "metadata": {},
   "outputs": [
    {
     "data": {
      "text/plain": [
       "0.0    7807\n",
       "1.0     579\n",
       "Name: Predictions, dtype: int64"
      ]
     },
     "execution_count": 20,
     "metadata": {},
     "output_type": "execute_result"
    }
   ],
   "source": [
    "predictions = backtest(data, model, predictors)\n",
    "predictions[\"Predictions\"].value_counts()"
   ]
  },
  {
   "cell_type": "code",
   "execution_count": 21,
   "id": "e11b9a6c-e150-4e85-a786-530fb95ad1ba",
   "metadata": {},
   "outputs": [
    {
     "data": {
      "text/plain": [
       "0.5025906735751295"
      ]
     },
     "execution_count": 21,
     "metadata": {},
     "output_type": "execute_result"
    }
   ],
   "source": [
    "precision_score(predictions[\"Target\"], predictions[\"Predictions\"])"
   ]
  },
  {
   "cell_type": "code",
   "execution_count": 22,
   "id": "c63ee3f1-2563-47d1-a079-6e741e4d8152",
   "metadata": {},
   "outputs": [],
   "source": [
    "weekly_mean = data.rolling(7).mean()\n",
    "quarterly_mean = data.rolling(90).mean()\n",
    "annual_mean = data.rolling(365).mean()\n",
    "\n",
    "weekly_trend = data.shift(1).rolling(7).mean()[\"Target\"]"
   ]
  },
  {
   "cell_type": "code",
   "execution_count": null,
   "id": "46c177ba-168d-4677-b904-e7a01184ace6",
   "metadata": {},
   "outputs": [],
   "source": [
    "data[\"weekly_mean\"] = weekly_mean[\"Close\"] / data[\"Close\"]\n",
    "data[\"quarterly_mean\"] = quarterly_mean[\"Close\"] / data[\"Close\"]\n",
    "data[\"annual_mean\"] = annual_mean[\"Close\"] / data[\"Close\"]\n",
    "\n",
    "data[\"annual_weekly_mean\"] = data[\"annual_mean\"] / data[\"weekly_mean\"]\n",
    "data[\"annual_quarterly_mean\"] = data[\"annual_mean\"] / data[\"quarterly_mean\"]\n",
    "data[\"weekly_trend\"] = weekly_trend\n",
    "\n",
    "data[\"open_close_ratio\"] = data[\"Open\"] / data[\"Close\"]\n",
    "data[\"high_close_ratio\"] = data[\"High\"] / data[\"Close\"]\n",
    "data[\"low_close_ratio\"] = data[\"Low\"] / data[\"Close\"]\n",
    "full_predictors = predictors + [\"weekly_mean\", \"quarterly_mean\", \"annual_mean\", \"annual_weekly_mean\", \"annual_quarterly_mean\", \"open_close_ratio\", \"high_close_ratio\", \"low_close_ratio\"]\n",
    "predictions = backtest(data.iloc[365:], model, full_predictors)"
   ]
  },
  {
   "cell_type": "code",
   "execution_count": null,
   "id": "e2aebb86-4123-4992-ad6d-c375298448d1",
   "metadata": {},
   "outputs": [],
   "source": [
    "precision_score(predictions[\"Target\"], predictions[\"Predictions\"])"
   ]
  },
  {
   "cell_type": "code",
   "execution_count": null,
   "id": "10d2c041-24c2-4e5c-a236-8c1a61b9733c",
   "metadata": {},
   "outputs": [],
   "source": []
  }
 ],
 "metadata": {
  "kernelspec": {
   "display_name": "Python 3 (ipykernel)",
   "language": "python",
   "name": "python3"
  },
  "language_info": {
   "codemirror_mode": {
    "name": "ipython",
    "version": 3
   },
   "file_extension": ".py",
   "mimetype": "text/x-python",
   "name": "python",
   "nbconvert_exporter": "python",
   "pygments_lexer": "ipython3",
   "version": "3.9.13"
  }
 },
 "nbformat": 4,
 "nbformat_minor": 5
}
